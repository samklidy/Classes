{
 "cells": [
  {
   "cell_type": "markdown",
   "metadata": {},
   "source": [
    "Задание 1\n",
    "Напишите функцию, которая возвращает название валюты (поле ‘Name’) \n",
    "с максимальным значением курса с помощью сервиса https://www.cbr-xml-daily.ru/daily_json.js"
   ]
  },
  {
   "cell_type": "code",
   "execution_count": 38,
   "metadata": {},
   "outputs": [
    {
     "data": {
      "text/plain": [
       "'СДР (специальные права заимствования)'"
      ]
     },
     "execution_count": 38,
     "metadata": {},
     "output_type": "execute_result"
    }
   ],
   "source": [
    "import requests\n",
    "import json\n",
    "\n",
    "def valute_max_value():\n",
    "    \"\"\"\n",
    "    Возвращает название валюты с максимальным значением курса\n",
    "    \"\"\"\n",
    "    full_data = requests.get('https://www.cbr-xml-daily.ru/daily_json.js').json()\n",
    "    full_data_valute = full_data['Valute']\n",
    "    \n",
    "    value_list = []\n",
    "    for key, value in full_data_valute.items():\n",
    "        value_list.append(full_data_valute[key]['Value'])\n",
    "\n",
    "    for key, value in full_data_valute.items():\n",
    "        if full_data_valute[key]['Value'] == max(value_list):\n",
    "            return(full_data_valute[key]['Name'])\n",
    "\n",
    "valute_max_value()\n"
   ]
  },
  {
   "cell_type": "markdown",
   "metadata": {},
   "source": [
    "Задание 2\n",
    "Добавьте в класс Rate параметр diff (со значениями True или False), который в случае значения True в методах курсов валют (eur, usd итд) будет возвращать не курс валюты, а изменение по сравнению в прошлым значением. Считайте, self.diff будет принимать значение True только при возврате значения курса. При отображении всей информации о валюте он не используется."
   ]
  },
  {
   "cell_type": "code",
   "execution_count": 149,
   "metadata": {},
   "outputs": [],
   "source": [
    "import requests\n",
    "import json\n",
    "\n",
    "class Rate:\n",
    "    def __init__(self, format_='value'):\n",
    "        self.format = format_\n",
    "        \n",
    "    def exchange_rates(self):\n",
    "    \n",
    "        self.r = requests.get('https://www.cbr-xml-daily.ru/daily_json.js')\n",
    "        return self.r.json()['Valute']\n",
    "    \n",
    "    def make_format(self, currency, diff=True):\n",
    "        \n",
    "        self.diff = diff\n",
    "        response = self.exchange_rates()\n",
    "        \n",
    "        if currency in response:\n",
    "            if self.format == 'full':\n",
    "                return response[currency]\n",
    "            \n",
    "            elif self.format == 'value' and self.diff == True:\n",
    "                return response[currency]['Value'] - response[currency]['Previous']\n",
    "            \n",
    "            elif self.format == 'value' and self.diff == False:\n",
    "                return response[currency]['Value']\n",
    "                \n",
    "        return 'Error'\n",
    "    \n",
    "    def eur(self, diff):\n",
    "       \"\"\"Возвращает курс евро на сегодня в формате self.format, если diff = Falsе или \n",
    "        разницу с предыдущим курсом, если diff = True \"\"\"\n",
    "        return self.make_format('EUR', diff)\n",
    "    \n",
    "    \n",
    "    def usd(self, diff):\n",
    "        return self.make_format('USD', diff)\n",
    "    \n",
    "    def brl(self, diff):\n",
    "        return self.make_format('BRL', diff)\n"
   ]
  },
  {
   "cell_type": "code",
   "execution_count": 152,
   "metadata": {},
   "outputs": [
    {
     "data": {
      "text/plain": [
       "-0.16220000000001278"
      ]
     },
     "execution_count": 152,
     "metadata": {},
     "output_type": "execute_result"
    }
   ],
   "source": [
    "r = Rate()\n",
    "r.usd(diff=True)\n"
   ]
  },
  {
   "cell_type": "markdown",
   "metadata": {},
   "source": [
    "Задание 3 Напишите класс Designer, который учитывает количество международных премий. Подсказки в коде занятия в разделе “Домашнее задание задача 3”."
   ]
  },
  {
   "cell_type": "code",
   "execution_count": 7,
   "metadata": {
    "scrolled": true
   },
   "outputs": [
    {
     "name": "stdout",
     "output_type": "stream",
     "text": [
      "Olga 1\n",
      "Olga 1\n",
      "Olga 2\n",
      "Olga 2\n",
      "Olga 2\n",
      "Olga 2\n",
      "Olga 2\n",
      "Olga 2\n",
      "Olga 2\n",
      "Olga 3\n",
      "Olga 3\n",
      "Olga 3\n",
      "Olga 3\n",
      "Olga 3\n",
      "Olga 3\n",
      "Olga 3\n",
      "Olga 4\n",
      "Olga 4\n",
      "Olga 4\n",
      "Olga 4\n"
     ]
    }
   ],
   "source": [
    "class Employee:\n",
    "    def __init__(self, name, seniority):\n",
    "        self.name = name\n",
    "        self.seniority = seniority\n",
    "        \n",
    "        self.grade = 1\n",
    "    \n",
    "    def grade_up(self):\n",
    "        \"\"\"Повышает уровень сотрудника\"\"\"\n",
    "        self.grade += 1\n",
    "    \n",
    "    def publish_grade(self):\n",
    "        \"\"\"Публикация результатов аккредитации сотрудников\"\"\"\n",
    "        print(self.name, self.grade)\n",
    "    \n",
    "    def check_if_it_is_time_for_upgrade(self):\n",
    "        pass\n",
    "    \n",
    "class Designer(Employee):\n",
    "    def __init__(self, name, seniority, international_award):\n",
    "        super().__init__(name, seniority)\n",
    "        self.award = international_award\n",
    "        \n",
    "    def check_if_it_is_time_for_upgrade(self):\n",
    "        # для каждой аккредитации увеличиваем счетчик на 1\n",
    "        # пока считаем, что все дизайнеры проходят аккредитации \n",
    "        # используем данные о количестве международных премий, которые известны на сегодня\n",
    "        # каждая международная премия = 2балла\n",
    "        # для повышения нужно 7 баллов\n",
    "    \n",
    "        self.seniority += 1\n",
    "        \n",
    "        if (self.seniority + (self.award * 2))//7 == 1:\n",
    "            self.grade_up()\n",
    "            self.seniority = self.seniority - 7\n",
    "            \n",
    "            \n",
    "        # публикация результатов\n",
    "        return self.publish_grade()\n",
    "    \n",
    "olga = Designer('Olga', seniority=0, international_award=2)\n",
    "\n",
    "for i in range(20):\n",
    "    olga.check_if_it_is_time_for_upgrade()"
   ]
  }
 ],
 "metadata": {
  "kernelspec": {
   "display_name": "Python 3",
   "language": "python",
   "name": "python3"
  },
  "language_info": {
   "codemirror_mode": {
    "name": "ipython",
    "version": 3
   },
   "file_extension": ".py",
   "mimetype": "text/x-python",
   "name": "python",
   "nbconvert_exporter": "python",
   "pygments_lexer": "ipython3",
   "version": "3.8.3"
  }
 },
 "nbformat": 4,
 "nbformat_minor": 4
}
